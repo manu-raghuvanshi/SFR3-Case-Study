{
 "cells": [
  {
   "cell_type": "code",
   "execution_count": 42,
   "id": "cf690746-1fa6-4adb-af74-5832a84d8285",
   "metadata": {},
   "outputs": [],
   "source": [
    "import matplotlib.pyplot as plt\n",
    "import numpy as np\n",
    "import matplotlib as mpl\n",
    "import pandas as pd"
   ]
  },
  {
   "cell_type": "code",
   "execution_count": 1,
   "id": "c81856d4-74df-41f5-b33f-00262c2722a6",
   "metadata": {},
   "outputs": [],
   "source": [
    "\n",
    "\n",
    "# Open tenant information dataset in a pandas dataframe\n",
    "\n",
    "tenant_info_df = pd.read_csv(\n",
    "    filepath_or_buffer=\"generateData/tenantInformation.csv\"\n",
    ")\n"
   ]
  },
  {
   "cell_type": "code",
   "execution_count": 2,
   "id": "685800ae-bfb8-41a4-b952-b5ce57e9673d",
   "metadata": {},
   "outputs": [
    {
     "data": {
      "text/html": [
       "<div>\n",
       "<style scoped>\n",
       "    .dataframe tbody tr th:only-of-type {\n",
       "        vertical-align: middle;\n",
       "    }\n",
       "\n",
       "    .dataframe tbody tr th {\n",
       "        vertical-align: top;\n",
       "    }\n",
       "\n",
       "    .dataframe thead th {\n",
       "        text-align: right;\n",
       "    }\n",
       "</style>\n",
       "<table border=\"1\" class=\"dataframe\">\n",
       "  <thead>\n",
       "    <tr style=\"text-align: right;\">\n",
       "      <th></th>\n",
       "      <th>UUID</th>\n",
       "      <th>Tenant_Name</th>\n",
       "      <th>Rent_Amount</th>\n",
       "      <th>Lease_Start_Date</th>\n",
       "      <th>Lease_End_Date</th>\n",
       "      <th>Utility_Amount</th>\n",
       "      <th>Pet_Amount</th>\n",
       "      <th>Tenant_Screening_Score</th>\n",
       "    </tr>\n",
       "  </thead>\n",
       "  <tbody>\n",
       "    <tr>\n",
       "      <th>0</th>\n",
       "      <td>1</td>\n",
       "      <td>Richard Bailey</td>\n",
       "      <td>1500</td>\n",
       "      <td>2023-02-06</td>\n",
       "      <td>2024-02-06</td>\n",
       "      <td>114.52</td>\n",
       "      <td>10.0</td>\n",
       "      <td>688</td>\n",
       "    </tr>\n",
       "    <tr>\n",
       "      <th>1</th>\n",
       "      <td>2</td>\n",
       "      <td>Jessica Ramirez</td>\n",
       "      <td>1900</td>\n",
       "      <td>2023-09-20</td>\n",
       "      <td>2024-03-18</td>\n",
       "      <td>40.59</td>\n",
       "      <td>NaN</td>\n",
       "      <td>580</td>\n",
       "    </tr>\n",
       "    <tr>\n",
       "      <th>2</th>\n",
       "      <td>3</td>\n",
       "      <td>Jeffrey Anderson</td>\n",
       "      <td>1800</td>\n",
       "      <td>2023-07-13</td>\n",
       "      <td>2024-01-09</td>\n",
       "      <td>107.28</td>\n",
       "      <td>10.0</td>\n",
       "      <td>847</td>\n",
       "    </tr>\n",
       "    <tr>\n",
       "      <th>3</th>\n",
       "      <td>4</td>\n",
       "      <td>Emma Sanchez</td>\n",
       "      <td>1200</td>\n",
       "      <td>2023-12-02</td>\n",
       "      <td>2024-12-01</td>\n",
       "      <td>10.54</td>\n",
       "      <td>NaN</td>\n",
       "      <td>597</td>\n",
       "    </tr>\n",
       "    <tr>\n",
       "      <th>4</th>\n",
       "      <td>5</td>\n",
       "      <td>Jacob White</td>\n",
       "      <td>1300</td>\n",
       "      <td>2023-03-24</td>\n",
       "      <td>2023-09-20</td>\n",
       "      <td>150.88</td>\n",
       "      <td>NaN</td>\n",
       "      <td>753</td>\n",
       "    </tr>\n",
       "  </tbody>\n",
       "</table>\n",
       "</div>"
      ],
      "text/plain": [
       "   UUID       Tenant_Name  Rent_Amount Lease_Start_Date Lease_End_Date  \\\n",
       "0     1    Richard Bailey         1500       2023-02-06     2024-02-06   \n",
       "1     2   Jessica Ramirez         1900       2023-09-20     2024-03-18   \n",
       "2     3  Jeffrey Anderson         1800       2023-07-13     2024-01-09   \n",
       "3     4      Emma Sanchez         1200       2023-12-02     2024-12-01   \n",
       "4     5       Jacob White         1300       2023-03-24     2023-09-20   \n",
       "\n",
       "   Utility_Amount  Pet_Amount  Tenant_Screening_Score  \n",
       "0          114.52        10.0                     688  \n",
       "1           40.59         NaN                     580  \n",
       "2          107.28        10.0                     847  \n",
       "3           10.54         NaN                     597  \n",
       "4          150.88         NaN                     753  "
      ]
     },
     "execution_count": 2,
     "metadata": {},
     "output_type": "execute_result"
    }
   ],
   "source": [
    "# Show subset of data\n",
    "tenant_info_df.head(5)"
   ]
  },
  {
   "cell_type": "code",
   "execution_count": 3,
   "id": "178b759f-f23f-443b-8fd0-dcdeb812fbbf",
   "metadata": {},
   "outputs": [
    {
     "data": {
      "text/plain": [
       "UUID                        int64\n",
       "Tenant_Name                object\n",
       "Rent_Amount                 int64\n",
       "Lease_Start_Date           object\n",
       "Lease_End_Date             object\n",
       "Utility_Amount            float64\n",
       "Pet_Amount                float64\n",
       "Tenant_Screening_Score      int64\n",
       "dtype: object"
      ]
     },
     "execution_count": 3,
     "metadata": {},
     "output_type": "execute_result"
    }
   ],
   "source": [
    "tenant_info_df.dtypes"
   ]
  },
  {
   "cell_type": "code",
   "execution_count": 4,
   "id": "4599119b-a13b-430b-818e-d5c3ed67c627",
   "metadata": {},
   "outputs": [
    {
     "data": {
      "text/plain": [
       "UUID                               int64\n",
       "Tenant_Name                       object\n",
       "Rent_Amount                        int64\n",
       "Lease_Start_Date          datetime64[ns]\n",
       "Lease_End_Date            datetime64[ns]\n",
       "Utility_Amount                   float64\n",
       "Pet_Amount                       float64\n",
       "Tenant_Screening_Score             int64\n",
       "dtype: object"
      ]
     },
     "execution_count": 4,
     "metadata": {},
     "output_type": "execute_result"
    }
   ],
   "source": [
    "#Replace NaN values in Pet_Amount with 0.0\n",
    "fill_na_values = {\"Pet_Amount\": 0.0}\n",
    "tenant_info_df = tenant_info_df.fillna(value=fill_na_values)\n",
    "\n",
    "# Convert Date Columns from Object to Datetime\n",
    "tenant_info_df[[\"Lease_Start_Date\", \"Lease_End_Date\"]] = tenant_info_df[[\"Lease_Start_Date\", \"Lease_End_Date\"]].apply(pd.to_datetime)\n",
    "\n",
    "tenant_info_df.dtypes"
   ]
  },
  {
   "cell_type": "code",
   "execution_count": 5,
   "id": "29499938-2236-4d03-8b5d-3649425f128e",
   "metadata": {},
   "outputs": [
    {
     "data": {
      "text/plain": [
       "1463.16"
      ]
     },
     "execution_count": 5,
     "metadata": {},
     "output_type": "execute_result"
    }
   ],
   "source": [
    "tenant_info_df[\"Rent_Amount\"].mean().round(2)"
   ]
  },
  {
   "cell_type": "code",
   "execution_count": 7,
   "id": "47dea32c-3777-472e-bb1d-d6c0f1c2528b",
   "metadata": {},
   "outputs": [
    {
     "data": {
      "text/html": [
       "<div>\n",
       "<style scoped>\n",
       "    .dataframe tbody tr th:only-of-type {\n",
       "        vertical-align: middle;\n",
       "    }\n",
       "\n",
       "    .dataframe tbody tr th {\n",
       "        vertical-align: top;\n",
       "    }\n",
       "\n",
       "    .dataframe thead th {\n",
       "        text-align: right;\n",
       "    }\n",
       "</style>\n",
       "<table border=\"1\" class=\"dataframe\">\n",
       "  <thead>\n",
       "    <tr style=\"text-align: right;\">\n",
       "      <th></th>\n",
       "      <th>Payment_ID</th>\n",
       "      <th>Tenant_UUID</th>\n",
       "      <th>Tenant_Name</th>\n",
       "      <th>Month_year</th>\n",
       "      <th>Rent_Paid_Date</th>\n",
       "      <th>Rent_Amount_Paid</th>\n",
       "      <th>Total_Rent_Amount</th>\n",
       "      <th>Rent_Amount_Due</th>\n",
       "      <th>Late_Payment</th>\n",
       "    </tr>\n",
       "  </thead>\n",
       "  <tbody>\n",
       "    <tr>\n",
       "      <th>0</th>\n",
       "      <td>3e1a207f-f1ef-4b75-b908-0df07b8608ee</td>\n",
       "      <td>1</td>\n",
       "      <td>Richard Bailey</td>\n",
       "      <td>February_2023</td>\n",
       "      <td>2023-02-15</td>\n",
       "      <td>1624.52</td>\n",
       "      <td>1624.52</td>\n",
       "      <td>0.0</td>\n",
       "      <td>N</td>\n",
       "    </tr>\n",
       "    <tr>\n",
       "      <th>1</th>\n",
       "      <td>99ea606e-9361-4835-baa3-91e9942acb36</td>\n",
       "      <td>1</td>\n",
       "      <td>Richard Bailey</td>\n",
       "      <td>March_2023</td>\n",
       "      <td>2023-03-31</td>\n",
       "      <td>1624.52</td>\n",
       "      <td>1624.52</td>\n",
       "      <td>0.0</td>\n",
       "      <td>Y</td>\n",
       "    </tr>\n",
       "    <tr>\n",
       "      <th>2</th>\n",
       "      <td>34708419-e7ad-49e4-92c9-130ede737c6d</td>\n",
       "      <td>1</td>\n",
       "      <td>Richard Bailey</td>\n",
       "      <td>April_2023</td>\n",
       "      <td>2023-04-14</td>\n",
       "      <td>1624.52</td>\n",
       "      <td>1624.52</td>\n",
       "      <td>0.0</td>\n",
       "      <td>N</td>\n",
       "    </tr>\n",
       "    <tr>\n",
       "      <th>3</th>\n",
       "      <td>220e8714-7e26-4891-b3c8-80d2277d8bda</td>\n",
       "      <td>1</td>\n",
       "      <td>Richard Bailey</td>\n",
       "      <td>May_2023</td>\n",
       "      <td>2023-05-10</td>\n",
       "      <td>1624.52</td>\n",
       "      <td>1624.52</td>\n",
       "      <td>0.0</td>\n",
       "      <td>N</td>\n",
       "    </tr>\n",
       "    <tr>\n",
       "      <th>4</th>\n",
       "      <td>7bf0d5d0-1b5e-4213-acae-9c6181c97d27</td>\n",
       "      <td>1</td>\n",
       "      <td>Richard Bailey</td>\n",
       "      <td>June_2023</td>\n",
       "      <td>2023-06-06</td>\n",
       "      <td>1624.52</td>\n",
       "      <td>1624.52</td>\n",
       "      <td>0.0</td>\n",
       "      <td>N</td>\n",
       "    </tr>\n",
       "  </tbody>\n",
       "</table>\n",
       "</div>"
      ],
      "text/plain": [
       "                             Payment_ID  Tenant_UUID     Tenant_Name  \\\n",
       "0  3e1a207f-f1ef-4b75-b908-0df07b8608ee            1  Richard Bailey   \n",
       "1  99ea606e-9361-4835-baa3-91e9942acb36            1  Richard Bailey   \n",
       "2  34708419-e7ad-49e4-92c9-130ede737c6d            1  Richard Bailey   \n",
       "3  220e8714-7e26-4891-b3c8-80d2277d8bda            1  Richard Bailey   \n",
       "4  7bf0d5d0-1b5e-4213-acae-9c6181c97d27            1  Richard Bailey   \n",
       "\n",
       "      Month_year Rent_Paid_Date  Rent_Amount_Paid  Total_Rent_Amount  \\\n",
       "0  February_2023     2023-02-15           1624.52            1624.52   \n",
       "1     March_2023     2023-03-31           1624.52            1624.52   \n",
       "2     April_2023     2023-04-14           1624.52            1624.52   \n",
       "3       May_2023     2023-05-10           1624.52            1624.52   \n",
       "4      June_2023     2023-06-06           1624.52            1624.52   \n",
       "\n",
       "   Rent_Amount_Due Late_Payment  \n",
       "0              0.0            N  \n",
       "1              0.0            Y  \n",
       "2              0.0            N  \n",
       "3              0.0            N  \n",
       "4              0.0            N  "
      ]
     },
     "execution_count": 7,
     "metadata": {},
     "output_type": "execute_result"
    }
   ],
   "source": [
    "rent_info_df = pd.read_csv(\n",
    "    filepath_or_buffer=\"generateData/rentInformation.csv\"\n",
    ")\n",
    "rent_info_df.head(5)"
   ]
  },
  {
   "cell_type": "code",
   "execution_count": 8,
   "id": "5bf0e2ac-0e3c-4333-88f4-dd34e6b8f862",
   "metadata": {},
   "outputs": [
    {
     "name": "stdout",
     "output_type": "stream",
     "text": [
      "Tenant Name - Andrew Wilson, Tenant UUID - 12, Late Payment Count - 3\n",
      "Tenant Name - Barbara Turner, Tenant UUID - 17, Late Payment Count - 3\n",
      "Tenant Name - Daniel Rogers, Tenant UUID - 19, Late Payment Count - 4\n",
      "Tenant Name - Emma Gomez, Tenant UUID - 11, Late Payment Count - 1\n",
      "Tenant Name - Emma Sanchez, Tenant UUID - 4, Late Payment Count - 1\n",
      "Tenant Name - Jacob White, Tenant UUID - 5, Late Payment Count - 5\n",
      "Tenant Name - Jeffrey Anderson, Tenant UUID - 3, Late Payment Count - 4\n",
      "Tenant Name - Jessica Ramirez, Tenant UUID - 2, Late Payment Count - 4\n",
      "Tenant Name - Kathleen Murphy, Tenant UUID - 6, Late Payment Count - 3\n",
      "Tenant Name - Linda Cooper, Tenant UUID - 13, Late Payment Count - 2\n",
      "Tenant Name - Matthew Mitchell, Tenant UUID - 18, Late Payment Count - 1\n",
      "Tenant Name - Michael Sanchez, Tenant UUID - 15, Late Payment Count - 9\n",
      "Tenant Name - Nicholas Martinez, Tenant UUID - 16, Late Payment Count - 2\n",
      "Tenant Name - Richard Bailey, Tenant UUID - 1, Late Payment Count - 3\n",
      "Tenant Name - Richard Reyes, Tenant UUID - 8, Late Payment Count - 4\n",
      "Tenant Name - Sandra Reyes, Tenant UUID - 9, Late Payment Count - 1\n"
     ]
    }
   ],
   "source": [
    "res1 = rent_info_df[rent_info_df[\"Late_Payment\"]==\"Y\"].groupby([\"Tenant_Name\", \"Tenant_UUID\"]).count()[\"Late_Payment\"]\n",
    "\n",
    "for tenant_info, late_payment_count in res1.items():\n",
    "    print(f\"Tenant Name - {tenant_info[0]}, Tenant UUID - {tenant_info[1]}, Late Payment Count - {late_payment_count}\")"
   ]
  },
  {
   "cell_type": "code",
   "execution_count": 9,
   "id": "acfba1fa-33b3-47bc-a9a0-045ec8c1a219",
   "metadata": {},
   "outputs": [
    {
     "data": {
      "text/html": [
       "<div>\n",
       "<style scoped>\n",
       "    .dataframe tbody tr th:only-of-type {\n",
       "        vertical-align: middle;\n",
       "    }\n",
       "\n",
       "    .dataframe tbody tr th {\n",
       "        vertical-align: top;\n",
       "    }\n",
       "\n",
       "    .dataframe thead th {\n",
       "        text-align: right;\n",
       "    }\n",
       "</style>\n",
       "<table border=\"1\" class=\"dataframe\">\n",
       "  <thead>\n",
       "    <tr style=\"text-align: right;\">\n",
       "      <th></th>\n",
       "      <th>Tenant_Name_x</th>\n",
       "      <th>Late_Payment</th>\n",
       "      <th>Tenant_Screening_Score</th>\n",
       "    </tr>\n",
       "  </thead>\n",
       "  <tbody>\n",
       "    <tr>\n",
       "      <th>0</th>\n",
       "      <td>Richard Bailey</td>\n",
       "      <td>N</td>\n",
       "      <td>688</td>\n",
       "    </tr>\n",
       "    <tr>\n",
       "      <th>1</th>\n",
       "      <td>Richard Bailey</td>\n",
       "      <td>Y</td>\n",
       "      <td>688</td>\n",
       "    </tr>\n",
       "    <tr>\n",
       "      <th>2</th>\n",
       "      <td>Richard Bailey</td>\n",
       "      <td>N</td>\n",
       "      <td>688</td>\n",
       "    </tr>\n",
       "    <tr>\n",
       "      <th>3</th>\n",
       "      <td>Richard Bailey</td>\n",
       "      <td>N</td>\n",
       "      <td>688</td>\n",
       "    </tr>\n",
       "    <tr>\n",
       "      <th>4</th>\n",
       "      <td>Richard Bailey</td>\n",
       "      <td>N</td>\n",
       "      <td>688</td>\n",
       "    </tr>\n",
       "    <tr>\n",
       "      <th>...</th>\n",
       "      <td>...</td>\n",
       "      <td>...</td>\n",
       "      <td>...</td>\n",
       "    </tr>\n",
       "    <tr>\n",
       "      <th>145</th>\n",
       "      <td>Daniel Rogers</td>\n",
       "      <td>N</td>\n",
       "      <td>789</td>\n",
       "    </tr>\n",
       "    <tr>\n",
       "      <th>146</th>\n",
       "      <td>Daniel Rogers</td>\n",
       "      <td>N</td>\n",
       "      <td>789</td>\n",
       "    </tr>\n",
       "    <tr>\n",
       "      <th>147</th>\n",
       "      <td>Daniel Rogers</td>\n",
       "      <td>N</td>\n",
       "      <td>789</td>\n",
       "    </tr>\n",
       "    <tr>\n",
       "      <th>148</th>\n",
       "      <td>Daniel Rogers</td>\n",
       "      <td>N</td>\n",
       "      <td>789</td>\n",
       "    </tr>\n",
       "    <tr>\n",
       "      <th>149</th>\n",
       "      <td>Daniel Rogers</td>\n",
       "      <td>Y</td>\n",
       "      <td>789</td>\n",
       "    </tr>\n",
       "  </tbody>\n",
       "</table>\n",
       "<p>150 rows × 3 columns</p>\n",
       "</div>"
      ],
      "text/plain": [
       "      Tenant_Name_x Late_Payment  Tenant_Screening_Score\n",
       "0    Richard Bailey            N                     688\n",
       "1    Richard Bailey            Y                     688\n",
       "2    Richard Bailey            N                     688\n",
       "3    Richard Bailey            N                     688\n",
       "4    Richard Bailey            N                     688\n",
       "..              ...          ...                     ...\n",
       "145   Daniel Rogers            N                     789\n",
       "146   Daniel Rogers            N                     789\n",
       "147   Daniel Rogers            N                     789\n",
       "148   Daniel Rogers            N                     789\n",
       "149   Daniel Rogers            Y                     789\n",
       "\n",
       "[150 rows x 3 columns]"
      ]
     },
     "execution_count": 9,
     "metadata": {},
     "output_type": "execute_result"
    }
   ],
   "source": [
    "tenant_rent_df = rent_info_df.merge(tenant_info_df, how = \"left\", left_on=\"Tenant_UUID\", right_on=\"UUID\")\n",
    "tenant_rent_df.filter(items=[\"Tenant_Name_x\", \"Late_Payment\", \"Tenant_Screening_Score\"])"
   ]
  },
  {
   "cell_type": "code",
   "execution_count": 47,
   "id": "180fd621-723e-46be-b656-090aed4e637c",
   "metadata": {},
   "outputs": [
    {
     "name": "stdout",
     "output_type": "stream",
     "text": [
      "Tenant_UUID  Tenant_Screening_Score\n",
      "1            688                       3\n",
      "2            580                       4\n",
      "3            847                       4\n",
      "4            597                       1\n",
      "5            753                       5\n",
      "6            591                       3\n",
      "8            562                       4\n",
      "9            572                       1\n",
      "11           613                       1\n",
      "12           821                       3\n",
      "13           714                       2\n",
      "15           656                       9\n",
      "16           707                       2\n",
      "17           559                       3\n",
      "18           658                       1\n",
      "19           789                       4\n",
      "Name: Late_Payment, dtype: int64\n"
     ]
    }
   ],
   "source": [
    "screening_payment_res = tenant_rent_df[tenant_rent_df[\"Late_Payment\"]==\"Y\"].groupby([\"Tenant_UUID\", \"Tenant_Screening_Score\"]).count()[\"Late_Payment\"]\n",
    "print(screening_payment_res)"
   ]
  },
  {
   "cell_type": "code",
   "execution_count": 84,
   "id": "b22d07cf-e588-475e-b73c-f19284a0ee41",
   "metadata": {},
   "outputs": [
    {
     "data": {
      "text/plain": [
       "Text(0, 0.5, 'Late Payment Frequency')"
      ]
     },
     "execution_count": 84,
     "metadata": {},
     "output_type": "execute_result"
    },
    {
     "data": {
      "image/png": "[encoded data removed]",
      "text/plain": [
       "<Figure size 500x270 with 1 Axes>"
      ]
     },
     "metadata": {},
     "output_type": "display_data"
    }
   ],
   "source": [
    "scatter_plot_data = {\n",
    "    \"tenant_screening_score\":[],\n",
    "    \"late_payment_count\":[],\n",
    "}\n",
    "for index, count in screening_payment_res.items():\n",
    "    scatter_plot_data[\"tenant_screening_score\"].append(index[1])\n",
    "    scatter_plot_data[\"late_payment_count\"].append(count)\n",
    "scatter_plot_data[\"color\"] = np.random.randint(0, 50, len(scatter_plot_data[\"tenant_screening_score\"]))\n",
    "scatter_plot_data[\"size\"] = np.random.randn(len(scatter_plot_data[\"tenant_screening_score\"]))\n",
    "scatter_plot_data[\"size\"] = np.abs(scatter_plot_data[\"size\"]) * 100\n",
    "\n",
    "fig, ax = plt.subplots(figsize=(5, 2.7), layout='constrained')\n",
    "ax.scatter(\"tenant_screening_score\", \"late_payment_count\", c=\"color\", s=\"size\", data=scatter_plot_data)\n",
    "ax.set_xlabel(\"Tenant Screening Score\")\n",
    "ax.set_ylabel(\"Late Payment Frequency\")"
   ]
  },
  {
   "cell_type": "code",
   "execution_count": 83,
   "id": "5e924fb5-44ed-4730-8182-13d832a4180d",
   "metadata": {},
   "outputs": [
    {
     "data": {
      "text/plain": [
       "<BarContainer object of 12 artists>"
      ]
     },
     "execution_count": 83,
     "metadata": {},
     "output_type": "execute_result"
    },
    {
     "data": {
      "image/png": "[encoded data removed]",
      "text/plain": [
       "<Figure size 640x480 with 1 Axes>"
      ]
     },
     "metadata": {},
     "output_type": "display_data"
    }
   ],
   "source": [
    "lease_start_month = tenant_info_df.groupby(tenant_info_df[\"Lease_Start_Date\"].dt.month).count()[\"UUID\"].rename(\"Frequency of Start Month\")\n",
    "month_map = {\n",
    "    1: \"January\",\n",
    "    2: \"February\",\n",
    "    3: \"March\",\n",
    "    4: \"April\",\n",
    "    5: \"May\",\n",
    "    6: \"June\",\n",
    "    7: \"July\",\n",
    "    8: \"August\",\n",
    "    9: \"September\",\n",
    "    10: \"October\",\n",
    "    11: \"November\",\n",
    "    12: \"December\",\n",
    "}\n",
    "\n",
    "lease_month_barchart ={\n",
    "} \n",
    "for init in month_map:\n",
    "    lease_month_barchart[month_map[init]] = 0\n",
    "\n",
    "for month, frequency in lease_start_month.items():\n",
    "    lease_month_barchart[month_map[month]] = frequency\n",
    "\n",
    "plt.figure(layout='constrained')\n",
    "plt.xticks(rotation=20)\n",
    "plt.bar(list(lease_month_barchart.keys()), height = list(lease_month_barchart.values()), color = \"darkslategray\")"
   ]
  },
  {
   "cell_type": "code",
   "execution_count": null,
   "id": "63b18314-7cbd-47ef-8a50-f1805f5f960c",
   "metadata": {},
   "outputs": [],
   "source": []
  }
 ],
 "metadata": {
  "kernelspec": {
   "display_name": "Python 3 (ipykernel)",
   "language": "python",
   "name": "python3"
  },
  "language_info": {
   "codemirror_mode": {
    "name": "ipython",
    "version": 3
   },
   "file_extension": ".py",
   "mimetype": "text/x-python",
   "name": "python",
   "nbconvert_exporter": "python",
   "pygments_lexer": "ipython3",
   "version": "3.12.1"
  }
 },
 "nbformat": 4,
 "nbformat_minor": 5
}
